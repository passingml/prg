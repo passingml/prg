{
 "cells": [
  {
   "cell_type": "code",
   "execution_count": 6,
   "id": "9327810f-67f2-4773-9407-01043705c426",
   "metadata": {},
   "outputs": [
    {
     "name": "stdout",
     "output_type": "stream",
     "text": [
      "df: 0.670995670995671\n",
      "rf 0.7575757575757576\n"
     ]
    }
   ],
   "source": [
    "import pandas as pd\n",
    "import numpy as np\n",
    "from sklearn.ensemble import RandomForestClassifier\n",
    "from sklearn.tree import DecisionTreeClassifier\n",
    "from sklearn.model_selection import train_test_split\n",
    "from sklearn.metrics import accuracy_score\n",
    "\n",
    "data=pd.read_csv('B3-pima.csv')\n",
    "X=data.drop(\"Outcome\",axis=1)\n",
    "Y=data.Outcome\n",
    "xtrain,xtest,ytrain,ytest=train_test_split(X,Y,stratify=Y,test_size=0.3) \n",
    "dt=DecisionTreeClassifier()\n",
    "rf=RandomForestClassifier()\n",
    "dt.fit(xtrain,ytrain)\n",
    "rf.fit(xtrain,ytrain)\n",
    "ypred1=dt.predict(xtest)\n",
    "ypred2=rf.predict(xtest)\n",
    "a=accuracy_score(ytest,ypred1)\n",
    "b=accuracy_score(ytest,ypred2)\n",
    "print(\"df:\",a)\n",
    "print(\"rf\",b)\n"
   ]
  },
  {
   "cell_type": "code",
   "execution_count": null,
   "id": "00df0e76-ab2e-4163-9644-5ae46ebf8458",
   "metadata": {},
   "outputs": [],
   "source": []
  },
  {
   "cell_type": "code",
   "execution_count": null,
   "id": "870c587f-2050-44cb-bace-9636ca4f04af",
   "metadata": {},
   "outputs": [],
   "source": []
  }
 ],
 "metadata": {
  "kernelspec": {
   "display_name": "Python 3 (ipykernel)",
   "language": "python",
   "name": "python3"
  },
  "language_info": {
   "codemirror_mode": {
    "name": "ipython",
    "version": 3
   },
   "file_extension": ".py",
   "mimetype": "text/x-python",
   "name": "python",
   "nbconvert_exporter": "python",
   "pygments_lexer": "ipython3",
   "version": "3.10.7"
  }
 },
 "nbformat": 4,
 "nbformat_minor": 5
}
