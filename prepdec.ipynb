{
 "cells": [
  {
   "cell_type": "code",
   "execution_count": 16,
   "id": "3d325ff9-4038-40af-8d04-1411f7bb6e30",
   "metadata": {},
   "outputs": [
    {
     "name": "stdout",
     "output_type": "stream",
     "text": [
      "Requirement already satisfied: scikit-learn in c:\\users\\sneha\\appdata\\local\\programs\\python\\python310\\lib\\site-packages (1.3.2)\n",
      "Requirement already satisfied: numpy<2.0,>=1.17.3 in c:\\users\\sneha\\appdata\\local\\programs\\python\\python310\\lib\\site-packages (from scikit-learn) (1.26.2)\n",
      "Requirement already satisfied: scipy>=1.5.0 in c:\\users\\sneha\\appdata\\local\\programs\\python\\python310\\lib\\site-packages (from scikit-learn) (1.11.4)\n",
      "Requirement already satisfied: joblib>=1.1.1 in c:\\users\\sneha\\appdata\\local\\programs\\python\\python310\\lib\\site-packages (from scikit-learn) (1.3.2)\n",
      "Requirement already satisfied: threadpoolctl>=2.0.0 in c:\\users\\sneha\\appdata\\local\\programs\\python\\python310\\lib\\site-packages (from scikit-learn) (3.2.0)\n",
      "Note: you may need to restart the kernel to use updated packages.\n",
      "conf\n",
      "[[6 0 0 0 0 0 0]\n",
      " [0 6 0 0 0 0 0]\n",
      " [0 0 0 0 0 0 0]\n",
      " [0 0 0 3 0 0 0]\n",
      " [0 0 1 0 0 0 0]\n",
      " [0 0 0 0 0 1 0]\n",
      " [0 0 0 0 0 0 3]]\n",
      "classification report:\n",
      "              precision    recall  f1-score   support\n",
      "\n",
      "           1       1.00      1.00      1.00         6\n",
      "           2       1.00      1.00      1.00         6\n",
      "           3       0.00      1.00      0.00         0\n",
      "           4       1.00      1.00      1.00         3\n",
      "           5       1.00      0.00      0.00         1\n",
      "           6       1.00      1.00      1.00         1\n",
      "           7       1.00      1.00      1.00         3\n",
      "\n",
      "    accuracy                           0.95        20\n",
      "   macro avg       0.86      0.86      0.71        20\n",
      "weighted avg       1.00      0.95      0.95        20\n",
      "\n",
      "dt:\n",
      "|--- 1.1 <= 0.50\n",
      "|   |--- 0 <= 0.50\n",
      "|   |   |--- 0.5 <= 0.50\n",
      "|   |   |   |--- 1.4 <= 0.50\n",
      "|   |   |   |   |--- 1.5 <= 0.50\n",
      "|   |   |   |   |   |--- class: 7\n",
      "|   |   |   |   |--- 1.5 >  0.50\n",
      "|   |   |   |   |   |--- 4 <= 3.00\n",
      "|   |   |   |   |   |   |--- class: 7\n",
      "|   |   |   |   |   |--- 4 >  3.00\n",
      "|   |   |   |   |   |   |--- 0.1 <= 0.50\n",
      "|   |   |   |   |   |   |   |--- class: 7\n",
      "|   |   |   |   |   |   |--- 0.1 >  0.50\n",
      "|   |   |   |   |   |   |   |--- class: 6\n",
      "|   |   |   |--- 1.4 >  0.50\n",
      "|   |   |   |   |--- 0.6 <= 0.50\n",
      "|   |   |   |   |   |--- class: 5\n",
      "|   |   |   |   |--- 0.6 >  0.50\n",
      "|   |   |   |   |   |--- class: 3\n",
      "|   |   |--- 0.5 >  0.50\n",
      "|   |   |   |--- class: 4\n",
      "|   |--- 0 >  0.50\n",
      "|   |   |--- class: 2\n",
      "|--- 1.1 >  0.50\n",
      "|   |--- class: 1\n",
      "\n"
     ]
    },
    {
     "name": "stderr",
     "output_type": "stream",
     "text": [
      "\n",
      "[notice] A new release of pip is available: 23.3.1 -> 23.3.2\n",
      "[notice] To update, run: python.exe -m pip install --upgrade pip\n"
     ]
    }
   ],
   "source": [
    "import pandas as pd \n",
    "from sklearn.model_selection import train_test_split\n",
    "from sklearn.tree import DecisionTreeClassifier\n",
    "from sklearn.metrics import confusion_matrix,classification_report\n",
    "\n",
    "data=pd.read_csv('zoo_data.csv')\n",
    "X=data.iloc[:,:-1]\n",
    "y=data.iloc[:,-1]\n",
    "\n",
    "X_train,X_test,y_train,y_test=train_test_split(X,y,test_size=0.2,random_state=1)\n",
    "\n",
    "clf=DecisionTreeClassifier()\n",
    "\n",
    "clf.fit(X_train,y_train)\n",
    "\n",
    "y_pred=clf.predict(X_test)\n",
    "\n",
    "cm=confusion_matrix(y_test,y_pred)\n",
    "\n",
    "print(\"conf\")\n",
    "\n",
    "print(cm)\n",
    "\n",
    "cr=classification_report(y_test,y_pred,zero_division=1)\n",
    "print(\"classification report:\")\n",
    "print(cr)\n",
    "\n",
    "from sklearn.tree import export_text\n",
    "tree_text=export_text(clf,feature_names=list(X.columns))\n",
    "print(\"dt:\")\n",
    "print(tree_text)\n",
    "      "
   ]
  },
  {
   "cell_type": "code",
   "execution_count": null,
   "id": "a6390be3-ee64-4a33-97bd-5789adf5cc64",
   "metadata": {},
   "outputs": [],
   "source": []
  },
  {
   "cell_type": "code",
   "execution_count": null,
   "id": "d60817dc-868d-44aa-9408-38702d476e20",
   "metadata": {},
   "outputs": [],
   "source": []
  }
 ],
 "metadata": {
  "kernelspec": {
   "display_name": "Python 3 (ipykernel)",
   "language": "python",
   "name": "python3"
  },
  "language_info": {
   "codemirror_mode": {
    "name": "ipython",
    "version": 3
   },
   "file_extension": ".py",
   "mimetype": "text/x-python",
   "name": "python",
   "nbconvert_exporter": "python",
   "pygments_lexer": "ipython3",
   "version": "3.10.7"
  }
 },
 "nbformat": 4,
 "nbformat_minor": 5
}
